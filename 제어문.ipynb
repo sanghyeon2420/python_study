{
 "cells": [
  {
   "cell_type": "code",
   "execution_count": 1,
   "metadata": {},
   "outputs": [
    {
     "name": "stdout",
     "output_type": "stream",
     "text": [
      "건너가세요\n"
     ]
    }
   ],
   "source": [
    "color=input('color:')\n",
    "if color=='blue': # True\n",
    "    print('건너가세요')\n",
    "else: # False\n",
    "    print('기다리세요')"
   ]
  },
  {
   "cell_type": "code",
   "execution_count": 2,
   "metadata": {},
   "outputs": [
    {
     "name": "stdout",
     "output_type": "stream",
     "text": [
      "짝수\n"
     ]
    }
   ],
   "source": [
    "num=100\n",
    "if num%2==0: # num 2로 나눈 나머지가 0이면\n",
    "    print('짝수')\n",
    "else:\n",
    "    print('홀수')"
   ]
  },
  {
   "cell_type": "code",
   "execution_count": 1,
   "metadata": {},
   "outputs": [
    {
     "name": "stdout",
     "output_type": "stream",
     "text": [
      "건너가세요\n"
     ]
    }
   ],
   "source": [
    "color=input('color:')\n",
    "if color=='blue':\n",
    "    print('건너가세요')\n",
    "elif color=='red':\n",
    "    print('기다리세요')    \n",
    "else:\n",
    "    print('잘못된 입력입니다.')"
   ]
  },
  {
   "cell_type": "code",
   "execution_count": 2,
   "metadata": {},
   "outputs": [
    {
     "name": "stdout",
     "output_type": "stream",
     "text": [
      "1\n",
      "2\n",
      "3\n",
      "4\n",
      "5\n"
     ]
    }
   ],
   "source": [
    "# for 개별값 in 집합\n",
    "for i in [1,2,3,4,5]:\n",
    "    print(i)"
   ]
  },
  {
   "cell_type": "code",
   "execution_count": 3,
   "metadata": {},
   "outputs": [
    {
     "name": "stdout",
     "output_type": "stream",
     "text": [
      "1\n",
      "2\n",
      "3\n",
      "4\n",
      "5\n"
     ]
    }
   ],
   "source": [
    "numbers = [1,2,3,4,5]\n",
    "for i in numbers:\n",
    "    print(i)"
   ]
  },
  {
   "cell_type": "code",
   "execution_count": 4,
   "metadata": {},
   "outputs": [
    {
     "name": "stdout",
     "output_type": "stream",
     "text": [
      "<class 'range'>\n",
      "range(0, 10)\n",
      "[0, 1, 2, 3, 4, 5, 6, 7, 8, 9]\n",
      "range(1, 11)\n",
      "[1, 2, 3, 4, 5, 6, 7, 8, 9, 10]\n",
      "[1, 3, 5, 7, 9]\n",
      "55\n"
     ]
    }
   ],
   "source": [
    "# 0부터 9\n",
    "a = range(10)\n",
    "print(type(a))\n",
    "print(a)\n",
    "a = list(range(10)) # 리스트로 변환\n",
    "print(a)\n",
    "\n",
    "# range(start, end-1)\n",
    "a = range(1, 11) # 1~10\n",
    "print(a)\n",
    "a = list(range(1, 11))\n",
    "print(a)\n",
    "\n",
    "#range(start, end-1, step)\n",
    "a = list(range(1,11,2))\n",
    "print(a)\n",
    "\n",
    "sum = 0\n",
    "for i in range(1, 11):\n",
    "    sum += i\n",
    "print(sum)"
   ]
  },
  {
   "cell_type": "code",
   "execution_count": 9,
   "metadata": {},
   "outputs": [
    {
     "name": "stdout",
     "output_type": "stream",
     "text": [
      "=== 2단 ===\n",
      "2 x 1 =  2\n",
      "2 x 2 =  4\n",
      "2 x 3 =  6\n",
      "2 x 4 =  8\n",
      "2 x 5 = 10\n",
      "2 x 6 = 12\n",
      "2 x 7 = 14\n",
      "2 x 8 = 16\n",
      "2 x 9 = 18\n",
      "\n",
      "=== 3단 ===\n",
      "\n",
      "=== 4단 ===\n",
      "4 x 1 =  4\n",
      "4 x 2 =  8\n",
      "4 x 3 = 12\n",
      "4 x 4 = 16\n",
      "4 x 5 = 20\n",
      "4 x 6 = 24\n",
      "4 x 7 = 28\n",
      "4 x 8 = 32\n",
      "4 x 9 = 36\n",
      "\n"
     ]
    }
   ],
   "source": [
    "# 다중 for문\n",
    "for x in range(2, 5): # 2~4단\n",
    "\n",
    "    print(\"=== {0}단 ===\".format(x))\n",
    "    for y in range(1,10):\n",
    "        if x==3: # 3단이면 출력하지 않는다\n",
    "            break # 현재 반복문 빠져나오기,\n",
    "        print(\"{0} x {1} = {2:2d}\".format(x,y,x*y)) # :2d 숫자 2자리 자리수를 확보한다\n",
    "    print() # 빈 라인 출력"
   ]
  },
  {
   "cell_type": "code",
   "execution_count": 13,
   "metadata": {},
   "outputs": [
    {
     "name": "stdout",
     "output_type": "stream",
     "text": [
      "(1, 2)\n",
      "1+2=3\n",
      "3+4=7\n",
      "5+6=11\n"
     ]
    }
   ],
   "source": [
    "# 리스트의 요소가 튜플인 경우\n",
    "a = [(1,2),(3,4),(5,6)]\n",
    "print(a[0])\n",
    "for (first, last) in a:\n",
    "    print(\"{0}+{1}={2}\".format(first,last,first+last))"
   ]
  },
  {
   "cell_type": "code",
   "execution_count": 12,
   "metadata": {},
   "outputs": [
    {
     "name": "stdout",
     "output_type": "stream",
     "text": [
      "1번 학생 : 90점, 합격입니다.\n",
      "2번 학생 : 25점, 불합격입니다.\n",
      "3번 학생 : 67점, 합격입니다.\n",
      "4번 학생 : 45점, 불합격입니다.\n",
      "5번 학생 : 80점, 합격입니다.\n"
     ]
    }
   ],
   "source": [
    "points = [90, 25, 67, 45, 80]\n",
    "number = 0\n",
    "for point in points:\n",
    "    number = number + 1\n",
    "    result = \"\"\n",
    "    if point >= 60:\n",
    "        result='합격'\n",
    "    else:\n",
    "        result='불합격'\n",
    "    print(\"%d번 학생 : %d점, %s입니다.\" % (number,point,result))"
   ]
  },
  {
   "cell_type": "code",
   "execution_count": 16,
   "metadata": {},
   "outputs": [
    {
     "name": "stdout",
     "output_type": "stream",
     "text": [
      "{'2의 제곱': 4, '4의 제곱': 16, '6의 제곱': 36}\n"
     ]
    }
   ],
   "source": [
    "# 딕셔너리 내부에 for 반복문 사용\n",
    "a = { str(x)+\"의 제곱\": x**2 for x in (2,4,6)}\n",
    "print(a)"
   ]
  },
  {
   "cell_type": "code",
   "execution_count": 17,
   "metadata": {},
   "outputs": [
    {
     "name": "stdout",
     "output_type": "stream",
     "text": [
      "커피를 드립니다.\n",
      "남은 커피는 9개이고 잔액은 27000원입니다.\n",
      "\n",
      "커피를 드립니다.\n",
      "남은 커피는 8개이고 잔액은 24000원입니다.\n",
      "\n",
      "커피를 드립니다.\n",
      "남은 커피는 7개이고 잔액은 21000원입니다.\n",
      "\n",
      "커피를 드립니다.\n",
      "남은 커피는 6개이고 잔액은 18000원입니다.\n",
      "\n",
      "커피를 드립니다.\n",
      "남은 커피는 5개이고 잔액은 15000원입니다.\n",
      "\n",
      "커피를 드립니다.\n",
      "남은 커피는 4개이고 잔액은 12000원입니다.\n",
      "\n",
      "커피를 드립니다.\n",
      "남은 커피는 3개이고 잔액은 9000원입니다.\n",
      "\n",
      "커피를 드립니다.\n",
      "남은 커피는 2개이고 잔액은 6000원입니다.\n",
      "\n",
      "커피를 드립니다.\n",
      "남은 커피는 1개이고 잔액은 3000원입니다.\n",
      "\n",
      "커피를 드립니다.\n",
      "남은 커피는 0개이고 잔액은 0원입니다.\n",
      "\n",
      "품절입니다.\n"
     ]
    }
   ],
   "source": [
    "# break 예제\n",
    "# 커피 자판기 예제\n",
    "coffee = 10\n",
    "money = 30000\n",
    "while money: # 정수 money가 0이면 False 0이 아니면 True\n",
    "    print(\"커피를 드립니다.\")\n",
    "    coffee = coffee - 1\n",
    "    money = money - 3000\n",
    "    print(\"남은 커피는 %d개이고 잔액은 %d원입니다.\\n\" % (coffee,money))\n",
    "\n",
    "    if not coffee:\n",
    "        print(\"품절입니다.\")\n",
    "        break # 반복문 종료  \n"
   ]
  },
  {
   "cell_type": "code",
   "execution_count": 20,
   "metadata": {},
   "outputs": [
    {
     "name": "stdout",
     "output_type": "stream",
     "text": [
      "커피를 드립니다.\n",
      "남은 커피는 9개이고 잔액은 27000원입니다.\n",
      "\n",
      "커피를 드립니다.\n",
      "남은 커피는 8개이고 잔액은 24000원입니다.\n",
      "\n",
      "커피를 드립니다.\n",
      "남은 커피는 7개이고 잔액은 21000원입니다.\n",
      "\n",
      "커피를 드립니다.\n",
      "남은 커피는 6개이고 잔액은 18000원입니다.\n",
      "\n",
      "커피를 드립니다.\n",
      "남은 커피는 5개이고 잔액은 15000원입니다.\n",
      "\n",
      "다음에 또 오세요.\n"
     ]
    }
   ],
   "source": [
    "# break 예제\n",
    "# 커피 자판기 예제\n",
    "coffee = 10\n",
    "money = 30000\n",
    "while True:\n",
    "    buyCoffee=input(\"커피를 구매하시겠습니까?(y/n):\")\n",
    "    if buyCoffee=='y':\n",
    "        print(\"커피를 드립니다.\")\n",
    "        coffee = coffee - 1\n",
    "        money = money - 3000\n",
    "        print(\"남은 커피는 %d개이고 잔액은 %d원입니다.\\n\" % (coffee,money))\n",
    "    if buyCoffee=='n':\n",
    "        print('다음에 또 오세요.')\n",
    "        break\n",
    "    if not coffee:\n",
    "        print(\"품절입니다.\")\n",
    "        break\n",
    "    \n"
   ]
  },
  {
   "cell_type": "code",
   "execution_count": 21,
   "metadata": {},
   "outputs": [
    {
     "name": "stdout",
     "output_type": "stream",
     "text": [
      "1\n",
      "3\n",
      "5\n",
      "7\n",
      "9\n"
     ]
    }
   ],
   "source": [
    "# continue 예제\n",
    "# 홀수만 출력\n",
    "a = 0\n",
    "while a < 10:\n",
    "    a = a + 1\n",
    "    if a % 2 == 0: # a를 2로 나눈 나머지가 0(짝수)이면\n",
    "        continue # 반복문 첫 라인으로 이동\n",
    "    print(a)"
   ]
  },
  {
   "cell_type": "code",
   "execution_count": 23,
   "metadata": {},
   "outputs": [
    {
     "name": "stdout",
     "output_type": "stream",
     "text": [
      "aaa\n",
      "bbb\n",
      "ccc\n",
      "ddd\n",
      "eee\n",
      "x\n"
     ]
    }
   ],
   "source": [
    "# 무한루프 예제\n",
    "while True:\n",
    "    s=input('입력하세요(종료:x):')\n",
    "    print(s)\n",
    "    if s=='x':\n",
    "        break"
   ]
  },
  {
   "cell_type": "code",
   "execution_count": 24,
   "metadata": {},
   "outputs": [
    {
     "name": "stdout",
     "output_type": "stream",
     "text": [
      "2 x 1 = 2\n",
      "2 x 2 = 4\n",
      "2 x 3 = 6\n",
      "2 x 4 = 8\n",
      "2 x 5 = 10\n",
      "2 x 6 = 12\n",
      "2 x 7 = 14\n",
      "2 x 8 = 16\n",
      "2 x 9 = 18\n",
      "3 x 1 = 3\n",
      "3 x 2 = 6\n",
      "3 x 3 = 9\n",
      "3 x 4 = 12\n",
      "3 x 5 = 15\n",
      "3 x 6 = 18\n",
      "3 x 7 = 21\n",
      "3 x 8 = 24\n",
      "3 x 9 = 27\n",
      "4 x 1 = 4\n",
      "4 x 2 = 8\n",
      "4 x 3 = 12\n",
      "4 x 4 = 16\n",
      "4 x 5 = 20\n",
      "4 x 6 = 24\n",
      "4 x 7 = 28\n",
      "4 x 8 = 32\n",
      "4 x 9 = 36\n"
     ]
    }
   ],
   "source": [
    "while 1:\n",
    "    dan = int(input('단을 입력하세요(종료하려먼 0을 입력하세요):'))\n",
    "    if dan == 0:\n",
    "        break\n",
    "    for n in range(1, 10):\n",
    "        print(dan, 'x', n, '=', dan*n)"
   ]
  },
  {
   "cell_type": "code",
   "execution_count": 25,
   "metadata": {},
   "outputs": [
    {
     "name": "stdout",
     "output_type": "stream",
     "text": [
      "447\n",
      "100128\n"
     ]
    }
   ],
   "source": [
    "# 합계가 10만보다 커지게 되는 n을 구하기\n",
    "x = 1\n",
    "total = 0\n",
    "while 1:\n",
    "    total = total + x\n",
    "    if total > 100000:\n",
    "        print(x)\n",
    "        print(total)\n",
    "        break\n",
    "    x = x + 1"
   ]
  },
  {
   "cell_type": "code",
   "execution_count": 26,
   "metadata": {},
   "outputs": [
    {
     "name": "stdout",
     "output_type": "stream",
     "text": [
      "0.12942210050612768\n",
      "0.45673596687024365\n",
      "0.6803648824113125\n",
      "0.7300337502633717\n",
      "0.9811429934339754\n",
      "8\n",
      "6\n",
      "7\n",
      "9\n",
      "1\n",
      "47.08127040857965\n",
      "87.81375249288546\n",
      "71.82378803016239\n",
      "74.32583156815919\n",
      "37.342566024234834\n"
     ]
    }
   ],
   "source": [
    "# 난수 관련 예제\n",
    "import random\n",
    "\n",
    "# 실수 난수\n",
    "for i in range(5):\n",
    "    print(random.random()) # 0.0~1.0\n",
    "\n",
    "# 정수 난수\n",
    "for i in range(5):\n",
    "    print(random.randint(1,10)) # 1~10\n",
    "\n",
    "# 1 ~ 100 사이의 실수 난수\n",
    "for i in range(5):\n",
    "    print(random.uniform(1,100)) # 실수형 난수"
   ]
  },
  {
   "cell_type": "code",
   "execution_count": 27,
   "metadata": {},
   "outputs": [
    {
     "name": "stdout",
     "output_type": "stream",
     "text": [
      "짜장면\n"
     ]
    }
   ],
   "source": [
    "# 리스트에서 임의의 요소를 하나 골라서 리턴\n",
    "food = [\"짜장면\", \"짬뽕\", \"탕수육\", \"군만두\"]\n",
    "f=random.choice(food)\n",
    "print(f)"
   ]
  },
  {
   "cell_type": "code",
   "execution_count": 29,
   "metadata": {},
   "outputs": [
    {
     "name": "stdout",
     "output_type": "stream",
     "text": [
      "['짜장면', '짬뽕', '탕수육', '군만두']\n",
      "['짜장면', '짬뽕', '군만두', '탕수육']\n"
     ]
    }
   ],
   "source": [
    "# 무작위로 섞음\n",
    "food = [\"짜장면\", \"짬뽕\", \"탕수육\", \"군만두\"]\n",
    "print(food)\n",
    "random.shuffle(food)\n",
    "print(food)"
   ]
  },
  {
   "cell_type": "code",
   "execution_count": 31,
   "metadata": {},
   "outputs": [
    {
     "name": "stdout",
     "output_type": "stream",
     "text": [
      "['짬뽕', '짜장면']\n"
     ]
    }
   ],
   "source": [
    "# 4개 중에서 2개를 무작위로 샘플링\n",
    "food = [\"짜장면\", \"짬뽕\", \"탕수육\", \"군만두\"]\n",
    "print(random.sample(food,2))"
   ]
  },
  {
   "cell_type": "code",
   "execution_count": 32,
   "metadata": {},
   "outputs": [
    {
     "name": "stdout",
     "output_type": "stream",
     "text": [
      "정답입니다.\n"
     ]
    }
   ],
   "source": [
    "a = random.randint(1, 9)\n",
    "b = random.randint(1, 9)\n",
    "question = \"%d + %d = ?\" % (a, b)\n",
    "c = int(input(question))\n",
    "\n",
    "if c == a + b:\n",
    "    print(\"정답입니다.\")\n",
    "else:\n",
    "    print(\"틀렸습니다.\")"
   ]
  },
  {
   "cell_type": "code",
   "execution_count": 33,
   "metadata": {},
   "outputs": [
    {
     "name": "stdout",
     "output_type": "stream",
     "text": [
      "정답입니다.\n",
      "정답입니다.\n",
      "틀렸습니다.\n",
      "틀렸습니다.\n",
      "정답 : 2개, 오답 : 2개 입니다. \n"
     ]
    }
   ],
   "source": [
    "success = 0\n",
    "fail = 0\n",
    "while True:\n",
    "    a = random.randint(1, 9)\n",
    "    b = random.randint(1, 9)\n",
    "    question = \"%d + %d = ?\" % (a, b)\n",
    "    c = int(input(question))\n",
    "\n",
    "    if c == 0: # 0이면 종료\n",
    "        break\n",
    "    elif c == a + b:\n",
    "        print(\"정답입니다.\")\n",
    "        success = success + 1 # 정답 증가\n",
    "    else:\n",
    "        print(\"틀렸습니다.\")\n",
    "        fail = fail + 1 # 오답 증가\n",
    "\n",
    "print('정답 : %d개, 오답 : %d개 입니다. ' % (success, fail))"
   ]
  },
  {
   "cell_type": "code",
   "execution_count": 34,
   "metadata": {},
   "outputs": [
    {
     "name": "stdout",
     "output_type": "stream",
     "text": [
      "더 작은 수를 입력하세요\n",
      "더 큰 수를 입력하세요.\n",
      "더 큰 수를 입력하세요.\n",
      "4번만에 맞췄습니다.\n"
     ]
    }
   ],
   "source": [
    "secret = random.randint(1,100) # 1~100\n",
    "count = 0\n",
    "while True: # 무한반복\n",
    "    num=int(input('숫자를 입력하세요:'))\n",
    "    if num==0:\n",
    "        break\n",
    "    count+=1\n",
    "    if num==secret:\n",
    "        print('%d번만에 맞췄습니다.' % count)\n",
    "        break\n",
    "    elif num>secret:\n",
    "        print('더 작은 수를 입력하세요')\n",
    "    else:\n",
    "        print('더 큰 수를 입력하세요.')\n"
   ]
  },
  {
   "cell_type": "code",
   "execution_count": null,
   "metadata": {},
   "outputs": [],
   "source": []
  }
 ],
 "metadata": {
  "interpreter": {
   "hash": "cef9e06bb236b2a8629b07e87a04b187b952a0f661eff5533360a155783f0c33"
  },
  "kernelspec": {
   "display_name": "Python 3.9.7 64-bit ('base': conda)",
   "language": "python",
   "name": "python3"
  },
  "language_info": {
   "codemirror_mode": {
    "name": "ipython",
    "version": 3
   },
   "file_extension": ".py",
   "mimetype": "text/x-python",
   "name": "python",
   "nbconvert_exporter": "python",
   "pygments_lexer": "ipython3",
   "version": "3.9.7"
  },
  "orig_nbformat": 4
 },
 "nbformat": 4,
 "nbformat_minor": 2
}
