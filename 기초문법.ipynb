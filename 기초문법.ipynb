{
 "cells": [
  {
   "cell_type": "code",
   "execution_count": 5,
   "metadata": {},
   "outputs": [
    {
     "name": "stdout",
     "output_type": "stream",
     "text": [
      "['False', 'None', 'True', '__peg_parser__', 'and', 'as', 'assert', 'async', 'await', 'break', 'class', 'continue', 'def', 'del', 'elif', 'else', 'except', 'finally', 'for', 'from', 'global', 'if', 'import', 'in', 'is', 'lambda', 'nonlocal', 'not', 'or', 'pass', 'raise', 'return', 'try', 'while', 'with', 'yield']\n",
      "36\n"
     ]
    }
   ],
   "source": [
    "# import 모듈\n",
    "# 파일이름.py\n",
    "import keyword # 키워드 모듈 불러오기\n",
    "print(keyword.kwlist) # 예약어\n",
    "# len(변수) 개수\n",
    "print(len(keyword.kwlist)) "
   ]
  },
  {
   "cell_type": "code",
   "execution_count": 2,
   "metadata": {},
   "outputs": [
    {
     "data": {
      "text/plain": [
       "3"
      ]
     },
     "execution_count": 2,
     "metadata": {},
     "output_type": "execute_result"
    }
   ],
   "source": [
    "1+2"
   ]
  },
  {
   "cell_type": "code",
   "execution_count": 3,
   "metadata": {},
   "outputs": [
    {
     "data": {
      "text/plain": [
       "1.25"
      ]
     },
     "execution_count": 3,
     "metadata": {},
     "output_type": "execute_result"
    }
   ],
   "source": [
    "3/2.4"
   ]
  },
  {
   "cell_type": "code",
   "execution_count": 4,
   "metadata": {},
   "outputs": [
    {
     "data": {
      "text/plain": [
       "27"
      ]
     },
     "execution_count": 4,
     "metadata": {},
     "output_type": "execute_result"
    }
   ],
   "source": [
    "3*9"
   ]
  },
  {
   "cell_type": "code",
   "execution_count": 6,
   "metadata": {},
   "outputs": [
    {
     "data": {
      "text/plain": [
       "19683"
      ]
     },
     "execution_count": 6,
     "metadata": {},
     "output_type": "execute_result"
    }
   ],
   "source": [
    "3**9 # 거듭제곱"
   ]
  },
  {
   "cell_type": "code",
   "execution_count": 8,
   "metadata": {},
   "outputs": [
    {
     "name": "stdout",
     "output_type": "stream",
     "text": [
      "11\n",
      "<class 'int'>\n",
      "파이썬\n",
      "<class 'str'>\n"
     ]
    }
   ],
   "source": [
    "# 가변자료형\n",
    "a=10\n",
    "a+=1 # a=a+1\n",
    "print(a)\n",
    "print(type(a)) # type(변수) 변수의 자료형\n",
    "a='파이썬' # 문자열 작은따옴표 or 큰따옴표\n",
    "print(a)\n",
    "print(type(a))"
   ]
  },
  {
   "cell_type": "code",
   "execution_count": 9,
   "metadata": {},
   "outputs": [
    {
     "name": "stdout",
     "output_type": "stream",
     "text": [
      "10 20\n",
      "10 10 10\n"
     ]
    }
   ],
   "source": [
    "# 여러개의 변수에 할당 가능\n",
    "a, b = 10, 20\n",
    "# (a,b)=(10,20)\n",
    "print(a,b)\n",
    "i=j=k=10\n",
    "print(i,j,k)"
   ]
  },
  {
   "cell_type": "code",
   "execution_count": 10,
   "metadata": {},
   "outputs": [
    {
     "name": "stdout",
     "output_type": "stream",
     "text": [
      "10 20\n",
      "20 10\n"
     ]
    }
   ],
   "source": [
    "# 변수의 swap\n",
    "a,b=10,20\n",
    "print(a,b)\n",
    "a,b=b,a\n",
    "print(a,b)"
   ]
  },
  {
   "cell_type": "code",
   "execution_count": 14,
   "metadata": {},
   "outputs": [
    {
     "name": "stdout",
     "output_type": "stream",
     "text": [
      "2\n"
     ]
    },
    {
     "ename": "NameError",
     "evalue": "name 'b' is not defined",
     "output_type": "error",
     "traceback": [
      "\u001b[1;31m---------------------------------------------------------------------------\u001b[0m",
      "\u001b[1;31mNameError\u001b[0m                                 Traceback (most recent call last)",
      "\u001b[1;32mC:\\Users\\KIMSAN~1\\AppData\\Local\\Temp/ipykernel_14784/2206535762.py\u001b[0m in \u001b[0;36m<module>\u001b[1;34m\u001b[0m\n\u001b[0;32m      3\u001b[0m \u001b[0mprint\u001b[0m\u001b[1;33m(\u001b[0m\u001b[0mb\u001b[0m\u001b[1;33m)\u001b[0m\u001b[1;33m\u001b[0m\u001b[1;33m\u001b[0m\u001b[0m\n\u001b[0;32m      4\u001b[0m \u001b[1;32mdel\u001b[0m \u001b[0mb\u001b[0m \u001b[1;31m# 변수 b 제거\u001b[0m\u001b[1;33m\u001b[0m\u001b[1;33m\u001b[0m\u001b[0m\n\u001b[1;32m----> 5\u001b[1;33m \u001b[0mprint\u001b[0m\u001b[1;33m(\u001b[0m\u001b[0mb\u001b[0m\u001b[1;33m)\u001b[0m\u001b[1;33m\u001b[0m\u001b[1;33m\u001b[0m\u001b[0m\n\u001b[0m",
      "\u001b[1;31mNameError\u001b[0m: name 'b' is not defined"
     ]
    }
   ],
   "source": [
    "# 변수의 삭제 : del\n",
    "b = 2\n",
    "print(b)\n",
    "del b # 변수 b 제거\n",
    "print(b)"
   ]
  },
  {
   "cell_type": "code",
   "execution_count": 15,
   "metadata": {},
   "outputs": [
    {
     "name": "stdout",
     "output_type": "stream",
     "text": [
      "1\n",
      "1.75\n",
      "1\n"
     ]
    }
   ],
   "source": [
    "print(7%3) # a%b a를 b로 나눈 나머지값\n",
    "print(7/4) # 실수몫\n",
    "print(7//4) # a // b 정수몫"
   ]
  },
  {
   "cell_type": "code",
   "execution_count": 19,
   "metadata": {},
   "outputs": [
    {
     "name": "stdout",
     "output_type": "stream",
     "text": [
      "정수 1 : 9\n",
      "정수 2 : 81\n",
      "정수 3 : 3.074074074074074\n",
      "정수 3 : 4.0\n"
     ]
    }
   ],
   "source": [
    "# 출력 형식\n",
    "x=9\n",
    "# '문자열 {}.format(변수) {}자리에 변수의 값이 출력됨\n",
    "print(\"정수 1 : {}\".format(x))\n",
    "print(\"정수 2 : {}\".format(3**4)) # 제곱\n",
    "print(\"정수 3 : {}\".format(8.3/2.7))\n",
    "print(\"정수 3 : {}\".format((int(8.3))/int(2.7))) # 강제형변환\n"
   ]
  },
  {
   "cell_type": "code",
   "execution_count": 23,
   "metadata": {},
   "outputs": [
    {
     "name": "stdout",
     "output_type": "stream",
     "text": [
      "10 20\n",
      "10 20\n",
      "20 10\n"
     ]
    }
   ],
   "source": [
    "a=10\n",
    "b=20\n",
    "print('{0} {1}'.format(a,b))\n",
    "print('{} {}'.format(a,b))\n",
    "print('{1} {0}'.format(a,b))"
   ]
  },
  {
   "cell_type": "code",
   "execution_count": 27,
   "metadata": {},
   "outputs": [
    {
     "name": "stdout",
     "output_type": "stream",
     "text": [
      "3.074074074074074\n",
      "3.074074074074074\n",
      "3.074\n",
      "     3.074\n",
      "12.0\n",
      "2.67\n",
      "2.67\n"
     ]
    }
   ],
   "source": [
    "# 소수 이하 자리수 지정 방법\n",
    "# {} {0} 첫번째 변수\n",
    "# {0:.3f}\n",
    "print(8.3/2.7)\n",
    "print(\"{0}\".format(8.3/2.7))\n",
    "print(\"{0:.3f}\".format(8.3/2.7)) # 소수 3자리\n",
    "print(\"{0:10.3f}\".format(8.3/2.7)) # 전체 자리 수 10자리, 소수 3자리\n",
    "y=2.5*4.8\n",
    "print('{:.1f}'.format(y))\n",
    "r=8/float(3)\n",
    "print('{:.2f}'.format(r))\n",
    "print('{:.2f}'.format(8.0/3))"
   ]
  },
  {
   "cell_type": "code",
   "execution_count": 28,
   "metadata": {},
   "outputs": [
    {
     "data": {
      "text/plain": [
       "4"
      ]
     },
     "execution_count": 28,
     "metadata": {},
     "output_type": "execute_result"
    }
   ],
   "source": [
    "a=10\n",
    "a.bit_length() # 비트 수"
   ]
  },
  {
   "cell_type": "code",
   "execution_count": 29,
   "metadata": {},
   "outputs": [
    {
     "name": "stdout",
     "output_type": "stream",
     "text": [
      "0.35\n",
      "0.44999999999999996\n"
     ]
    }
   ],
   "source": [
    "b=0.35\n",
    "print(b)\n",
    "print(b+0.1)"
   ]
  },
  {
   "cell_type": "code",
   "execution_count": 30,
   "metadata": {},
   "outputs": [
    {
     "name": "stdout",
     "output_type": "stream",
     "text": [
      "<class 'bool'>\n",
      "False\n",
      "False\n",
      "True\n"
     ]
    }
   ],
   "source": [
    "# 논리형 변수\n",
    "hungry=True\n",
    "sleepy=False\n",
    "print(type(hungry)) # 자료형\n",
    "print(not hungry) # 부정\n",
    "print(hungry and sleepy)\n",
    "print(hungry or sleepy)"
   ]
  },
  {
   "cell_type": "code",
   "execution_count": 31,
   "metadata": {},
   "outputs": [
    {
     "name": "stdout",
     "output_type": "stream",
     "text": [
      "ok\n",
      "ok\n"
     ]
    }
   ],
   "source": [
    "# 비교 연산자\n",
    "a=1\n",
    "b=3\n",
    "if a==1 and b==3:\n",
    "    print(\"ok\")\n",
    "# \\(백슬래시) - 코드가 길어질 경우 사용, 줄 바꿀 시 다음 라인과 한 줄로 인식\n",
    "if a==1 and \\\n",
    "b==3:\n",
    "    print('ok')\n"
   ]
  },
  {
   "cell_type": "code",
   "execution_count": 33,
   "metadata": {},
   "outputs": [
    {
     "name": "stdout",
     "output_type": "stream",
     "text": [
      "Hello\n",
      "python\n",
      "\n",
      "hello\n",
      "python\n",
      "hi\n",
      "\n"
     ]
    }
   ],
   "source": [
    "# Multi Line Text\n",
    "multiline = 'Hello\\npython' # \\n 줄바꿈, 개행 문자\n",
    "print(multiline)\n",
    "\n",
    "multiline='''\n",
    "hello\n",
    "python\n",
    "hi\n",
    "'''\n",
    "\n",
    "print(multiline)\n"
   ]
  },
  {
   "cell_type": "code",
   "execution_count": 36,
   "metadata": {},
   "outputs": [
    {
     "name": "stdout",
     "output_type": "stream",
     "text": [
      "안녕하세요\n"
     ]
    }
   ],
   "source": [
    "# 문자열 연결, +\n",
    "a = \"안녕\"\n",
    "b = \"하세요\"\n",
    "print(a+b)"
   ]
  },
  {
   "cell_type": "code",
   "execution_count": 39,
   "metadata": {},
   "outputs": [
    {
     "ename": "TypeError",
     "evalue": "can only concatenate str (not \"int\") to str",
     "output_type": "error",
     "traceback": [
      "\u001b[1;31m---------------------------------------------------------------------------\u001b[0m",
      "\u001b[1;31mTypeError\u001b[0m                                 Traceback (most recent call last)",
      "\u001b[1;32mC:\\Users\\KIMSAN~1\\AppData\\Local\\Temp/ipykernel_14784/1278499273.py\u001b[0m in \u001b[0;36m<module>\u001b[1;34m\u001b[0m\n\u001b[0;32m      2\u001b[0m \u001b[0mname\u001b[0m\u001b[1;33m=\u001b[0m\u001b[1;34m\"김철수\"\u001b[0m\u001b[1;33m\u001b[0m\u001b[1;33m\u001b[0m\u001b[0m\n\u001b[0;32m      3\u001b[0m \u001b[0mage\u001b[0m\u001b[1;33m=\u001b[0m\u001b[1;36m20\u001b[0m\u001b[1;33m\u001b[0m\u001b[1;33m\u001b[0m\u001b[0m\n\u001b[1;32m----> 4\u001b[1;33m \u001b[0mprint\u001b[0m\u001b[1;33m(\u001b[0m\u001b[1;34m'이름:'\u001b[0m\u001b[1;33m+\u001b[0m\u001b[0mname\u001b[0m\u001b[1;33m+\u001b[0m\u001b[1;34m',나이:'\u001b[0m\u001b[1;33m+\u001b[0m\u001b[0mage\u001b[0m\u001b[1;33m)\u001b[0m\u001b[1;33m\u001b[0m\u001b[1;33m\u001b[0m\u001b[0m\n\u001b[0m\u001b[0;32m      5\u001b[0m \u001b[1;33m\u001b[0m\u001b[0m\n",
      "\u001b[1;31mTypeError\u001b[0m: can only concatenate str (not \"int\") to str"
     ]
    }
   ],
   "source": [
    "# 문자열과 숫자는 + 연산을 할 수 없음\n",
    "name=\"김철수\"\n",
    "age=20\n",
    "print('이름:'+name+',나이:'+age) # 문자열 + 숫자 에러\n",
    "\n"
   ]
  },
  {
   "cell_type": "code",
   "execution_count": 40,
   "metadata": {},
   "outputs": [
    {
     "name": "stdout",
     "output_type": "stream",
     "text": [
      "이름:김철수,나이:20\n"
     ]
    }
   ],
   "source": [
    "name=\"김철수\"\n",
    "age=20\n",
    "print('이름:'+name+',나이:'+str(age)) # str(숫자) string 형변환"
   ]
  },
  {
   "cell_type": "code",
   "execution_count": 41,
   "metadata": {},
   "outputs": [
    {
     "name": "stdout",
     "output_type": "stream",
     "text": [
      "pythonpython\n",
      "pythonpythonpython\n",
      "==================================================\n",
      "My Program\n",
      "==================================================\n"
     ]
    }
   ],
   "source": [
    "a=\"python\"\n",
    "print(a*2) # * 문자열 반복\n",
    "print(a*3)\n",
    "print('='*50)\n",
    "print('My Program')\n",
    "print('='*50)"
   ]
  },
  {
   "cell_type": "code",
   "execution_count": 42,
   "metadata": {},
   "outputs": [
    {
     "name": "stdout",
     "output_type": "stream",
     "text": [
      "세\n",
      "세\n",
      "안녕하세\n",
      "세요\n",
      "안녕하세요\n",
      "안녕하세요\n"
     ]
    }
   ],
   "source": [
    "# 인덱싱 - 문자의 위치\n",
    "a='안녕하세요'\n",
    "#  0 1 2 3 4\n",
    "#       -2 -1 오른쪽에서 올때\n",
    "print(a[3])\n",
    "print(a[-2])\n",
    "print(a[0:4]) # [start:stop:step] 0~3\n",
    "print(a[3:]) # 3~\n",
    "print(a[:7]) # 0~6\n",
    "print(a[:]) # 전체"
   ]
  },
  {
   "cell_type": "code",
   "execution_count": 43,
   "metadata": {},
   "outputs": [
    {
     "name": "stdout",
     "output_type": "stream",
     "text": [
      "True\n",
      "False\n"
     ]
    }
   ],
   "source": [
    "# in, not in\n",
    "a = \"Hello world\"\n",
    "print(\"world\" in a) # 문자열 a 안에 \"world\" 문자열이 있으면 True 없으면 False\n",
    "print(\"world\" not in a)"
   ]
  },
  {
   "cell_type": "code",
   "execution_count": 44,
   "metadata": {},
   "outputs": [
    {
     "name": "stdout",
     "output_type": "stream",
     "text": [
      "당신의 나이는 20세입니다.\n",
      "나는 사과를 좋아합니다.\n",
      "김철수님의 나이는 20세입니다.\n",
      "정확도: 98%\n",
      "원주율:     3.142\n"
     ]
    }
   ],
   "source": [
    "age=20\n",
    "# % 대입할 위치 %s 문자열 %d 정수 %f 실수\n",
    "print('당신의 나이는 %s세입니다.' % age)\n",
    "fruit='사과'\n",
    "print('나는 %s를 좋아합니다.' % fruit)\n",
    "name='김철수'\n",
    "# (a,b,c) => 튜플\n",
    "# [a,b,c] => 리스트\n",
    "print('%s님의 나이는 %d세입니다.' % (name,age))\n",
    "rate=98\n",
    "# % 문자 출력 => %%\n",
    "print('정확도: %d%%' % rate)\n",
    "point=3.141592\n",
    "print('원주율:%10.3f' % point) # 전체 10자리 소수 3자리"
   ]
  },
  {
   "cell_type": "code",
   "execution_count": 45,
   "metadata": {},
   "outputs": [
    {
     "name": "stdout",
     "output_type": "stream",
     "text": [
      "나이:15세\n",
      "이름:김철수\n",
      "김철수님의 나이는 15세입니다.\n",
      "김철수님의 나이는 20세입니다.\n"
     ]
    }
   ],
   "source": [
    "# 문자열 포멧팅\n",
    "age=15\n",
    "result='나이:{}세'.format(age)\n",
    "print(result)\n",
    "\n",
    "name='김철수'\n",
    "result='이름:{}'.format(name)\n",
    "print(result)\n",
    "\n",
    "result='{}님의 나이는 {}세입니다.'.format(name,age)\n",
    "print(result)\n",
    "\n",
    "result='{name}님의 나이는 {age}세입니다.'.format(age=20,name='김철수')\n",
    "print(result)"
   ]
  },
  {
   "cell_type": "code",
   "execution_count": 46,
   "metadata": {},
   "outputs": [
    {
     "name": "stdout",
     "output_type": "stream",
     "text": [
      "hi        \n",
      "        hi\n",
      "    hi    \n",
      "====hi====\n",
      "----hi----\n"
     ]
    }
   ],
   "source": [
    "result='{0:<10}'.format('hi') # {index:세부속성} 첫번째, < 왼쪽 정렬\n",
    "print(result)\n",
    "\n",
    "result='{0:>10}'.format('hi') # > 오른쪽 정렬\n",
    "print(result)\n",
    "\n",
    "result='{0:^10}'.format('hi') # ^ 가운데 정렬\n",
    "print(result)\n",
    "\n",
    "result='{0:=^10}'.format('hi') # 공백문자  =으로 대체\n",
    "print(result)\n",
    "\n",
    "result='{0:-^10}'.format('hi') # 공백문자  -으로 대체\n",
    "print(result)"
   ]
  },
  {
   "cell_type": "code",
   "execution_count": 47,
   "metadata": {},
   "outputs": [
    {
     "name": "stdout",
     "output_type": "stream",
     "text": [
      "2\n"
     ]
    }
   ],
   "source": [
    "# count 문자의 개수\n",
    "a='hobby'\n",
    "print(a.count('b'))"
   ]
  },
  {
   "cell_type": "code",
   "execution_count": 48,
   "metadata": {},
   "outputs": [
    {
     "name": "stdout",
     "output_type": "stream",
     "text": [
      "7\n",
      "-1\n"
     ]
    }
   ],
   "source": [
    "# 문자열의 위치\n",
    "a=\"Have a nice day.\"\n",
    "print(a.find('nice')) # 인덱스\n",
    "print(a.find('have')) # 찾는 값이 없으면 -1"
   ]
  },
  {
   "cell_type": "code",
   "execution_count": 49,
   "metadata": {},
   "outputs": [
    {
     "name": "stdout",
     "output_type": "stream",
     "text": [
      "8\n"
     ]
    },
    {
     "ename": "ValueError",
     "evalue": "substring not found",
     "output_type": "error",
     "traceback": [
      "\u001b[1;31m---------------------------------------------------------------------------\u001b[0m",
      "\u001b[1;31mValueError\u001b[0m                                Traceback (most recent call last)",
      "\u001b[1;32mC:\\Users\\KIMSAN~1\\AppData\\Local\\Temp/ipykernel_14784/3056479298.py\u001b[0m in \u001b[0;36m<module>\u001b[1;34m\u001b[0m\n\u001b[0;32m      1\u001b[0m \u001b[0ma\u001b[0m\u001b[1;33m=\u001b[0m\u001b[1;34m'Life is too short'\u001b[0m\u001b[1;33m\u001b[0m\u001b[1;33m\u001b[0m\u001b[0m\n\u001b[0;32m      2\u001b[0m \u001b[0mprint\u001b[0m\u001b[1;33m(\u001b[0m\u001b[0ma\u001b[0m\u001b[1;33m.\u001b[0m\u001b[0mindex\u001b[0m\u001b[1;33m(\u001b[0m\u001b[1;34m'too'\u001b[0m\u001b[1;33m)\u001b[0m\u001b[1;33m)\u001b[0m\u001b[1;33m\u001b[0m\u001b[1;33m\u001b[0m\u001b[0m\n\u001b[1;32m----> 3\u001b[1;33m \u001b[0mprint\u001b[0m\u001b[1;33m(\u001b[0m\u001b[0ma\u001b[0m\u001b[1;33m.\u001b[0m\u001b[0mindex\u001b[0m\u001b[1;33m(\u001b[0m\u001b[1;34m'kind'\u001b[0m\u001b[1;33m)\u001b[0m\u001b[1;33m)\u001b[0m \u001b[1;31m# 찾는 값이 없을 때 예외처리 해야함\u001b[0m\u001b[1;33m\u001b[0m\u001b[1;33m\u001b[0m\u001b[0m\n\u001b[0m",
      "\u001b[1;31mValueError\u001b[0m: substring not found"
     ]
    }
   ],
   "source": [
    "a='Life is too short'\n",
    "print(a.index('too'))\n",
    "print(a.index('kind')) # 에러, 찾는 값이 없을 때 예외처리 해야함"
   ]
  },
  {
   "cell_type": "code",
   "execution_count": 50,
   "metadata": {},
   "outputs": [
    {
     "name": "stdout",
     "output_type": "stream",
     "text": [
      "a,b,c,d\n"
     ]
    }
   ],
   "source": [
    "# 문자열 삽입\n",
    "a=','\n",
    "result=a.join('abcd')\n",
    "print(result)"
   ]
  },
  {
   "cell_type": "code",
   "execution_count": 51,
   "metadata": {},
   "outputs": [
    {
     "name": "stdout",
     "output_type": "stream",
     "text": [
      "HI\n",
      "hi\n",
      "Python program\n"
     ]
    }
   ],
   "source": [
    "a='hi'\n",
    "result=a.upper() # 대문자\n",
    "print(result)\n",
    "a='HI'\n",
    "result=a.lower() # 소문자\n",
    "print(result)\n",
    "a='python program'\n",
    "result=a.capitalize() # 첫 글자 대문자\n",
    "print(result)"
   ]
  },
  {
   "cell_type": "code",
   "execution_count": 52,
   "metadata": {},
   "outputs": [
    {
     "name": "stdout",
     "output_type": "stream",
     "text": [
      "hi    \n",
      "    hi\n",
      "hi\n"
     ]
    }
   ],
   "source": [
    "# 왼쪽 공백 지우기(lstrip = Left Strip)\n",
    "a='    hi    '\n",
    "result=a.lstrip()\n",
    "print(result)\n",
    "\n",
    "# 오른쪽 공백 지우기(rstrip = Reft Strip)\n",
    "result=a.rstrip()\n",
    "print(result)\n",
    "\n",
    "# 양쪽 공백 제거\n",
    "result=a.strip()\n",
    "print(result)\n"
   ]
  },
  {
   "cell_type": "code",
   "execution_count": 53,
   "metadata": {},
   "outputs": [
    {
     "name": "stdout",
     "output_type": "stream",
     "text": [
      "경력 개발자\n"
     ]
    }
   ],
   "source": [
    "# 문자열 바꾸기(replace)\n",
    "a=\"신입 개발자\"\n",
    "result=a.replace(\"신입\",\"경력\") # replace(A,B) 문자열 A를 B로 바꾸기\n",
    "print(result)"
   ]
  },
  {
   "cell_type": "code",
   "execution_count": 55,
   "metadata": {},
   "outputs": [
    {
     "name": "stdout",
     "output_type": "stream",
     "text": [
      "['신입', '개발자']\n",
      "<class 'list'>\n",
      "['a', 'b', 'c', 'd']\n"
     ]
    }
   ],
   "source": [
    "# 문자열 나누기(split) - 기본적으로 공백을 기준으로 나눔\n",
    "a = \"신입 개발자\"\n",
    "result=a.split()\n",
    "print(result)\n",
    "print(type(result))\n",
    "\n",
    "# 구분자를 지정할 수 있음\n",
    "a=\"a:b:c:d\"\n",
    "result=a.split(':')\n",
    "print(result)"
   ]
  },
  {
   "cell_type": "code",
   "execution_count": null,
   "metadata": {},
   "outputs": [],
   "source": []
  }
 ],
 "metadata": {
  "interpreter": {
   "hash": "cef9e06bb236b2a8629b07e87a04b187b952a0f661eff5533360a155783f0c33"
  },
  "kernelspec": {
   "display_name": "Python 3.9.7 64-bit ('base': conda)",
   "language": "python",
   "name": "python3"
  },
  "language_info": {
   "codemirror_mode": {
    "name": "ipython",
    "version": 3
   },
   "file_extension": ".py",
   "mimetype": "text/x-python",
   "name": "python",
   "nbconvert_exporter": "python",
   "pygments_lexer": "ipython3",
   "version": "3.9.7"
  },
  "orig_nbformat": 4
 },
 "nbformat": 4,
 "nbformat_minor": 2
}
