{
 "cells": [
  {
   "cell_type": "code",
   "execution_count": 3,
   "metadata": {},
   "outputs": [
    {
     "name": "stdout",
     "output_type": "stream",
     "text": [
      "<class 'str'>\n",
      "100\n"
     ]
    }
   ],
   "source": [
    "a=input('입력하세요:')\n",
    "print(type(a)) # 스트링으로 입력\n",
    "print(a)"
   ]
  },
  {
   "cell_type": "code",
   "execution_count": 4,
   "metadata": {},
   "outputs": [
    {
     "name": "stdout",
     "output_type": "stream",
     "text": [
      "100\n"
     ]
    }
   ],
   "source": [
    "a=input('입력하세요:')\n",
    "print(int(a)) # 정수로 변환"
   ]
  },
  {
   "cell_type": "code",
   "execution_count": 8,
   "metadata": {},
   "outputs": [
    {
     "name": "stdout",
     "output_type": "stream",
     "text": [
      "5 x 1 = 5\n",
      "5 x 2 = 10\n",
      "5 x 3 = 15\n",
      "5 x 4 = 20\n",
      "5 x 5 = 25\n",
      "5 x 6 = 30\n",
      "5 x 7 = 35\n",
      "5 x 8 = 40\n",
      "5 x 9 = 45\n"
     ]
    }
   ],
   "source": [
    "#dan=5\n",
    "# dan=input('단을 입력하세요:')\n",
    "# dan=int(input('단을 입력하세요:'))\n",
    "dan=eval(input('단을 입력하세요:'))\n",
    "for i in range(1, 10):\n",
    "    print(dan,'x',i,'=',dan*i)"
   ]
  },
  {
   "cell_type": "code",
   "execution_count": 9,
   "metadata": {},
   "outputs": [
    {
     "name": "stdout",
     "output_type": "stream",
     "text": [
      "print(10)\n",
      "10\n"
     ]
    }
   ],
   "source": [
    "a='print(10)'\n",
    "print(a)\n",
    "\n",
    "eval('print(10)')\n"
   ]
  },
  {
   "cell_type": "code",
   "execution_count": null,
   "metadata": {},
   "outputs": [],
   "source": [
    "import sys\n",
    "args = sys.argv[1:]\n",
    "for i in args:\n",
    "    print(i.upper(), end=' ')"
   ]
  },
  {
   "cell_type": "code",
   "execution_count": 13,
   "metadata": {},
   "outputs": [
    {
     "name": "stdout",
     "output_type": "stream",
     "text": [
      "Hello, Kim.\n",
      "Hello, Park.\n"
     ]
    }
   ],
   "source": [
    "# {} 위치에 Kim이 입력되어 출력됨\n",
    "print('Hello, {0}.'.format('Kim'))\n",
    "\n",
    "name = input('이름을 입력하세요:')\n",
    "print('Hello, {0}.'.format(name))"
   ]
  },
  {
   "cell_type": "code",
   "execution_count": 14,
   "metadata": {},
   "outputs": [
    {
     "name": "stdout",
     "output_type": "stream",
     "text": [
      "김철호의 직업은 프로그래머입니다.\n"
     ]
    }
   ],
   "source": [
    "name = input('이름을 입력하세요:')\n",
    "job = input('직업을 입력하세요:')\n",
    "print('{0}의 직업은 {1}입니다.'.format(name,job))"
   ]
  },
  {
   "cell_type": "code",
   "execution_count": 15,
   "metadata": {},
   "outputs": [
    {
     "name": "stdout",
     "output_type": "stream",
     "text": [
      "김철호의 직업은 프로그래머입니다.\n"
     ]
    }
   ],
   "source": [
    "print(f'{name}의 직업은 {job}입니다.') # 포멧팅된 문자열 출력"
   ]
  },
  {
   "cell_type": "code",
   "execution_count": 16,
   "metadata": {},
   "outputs": [
    {
     "name": "stdout",
     "output_type": "stream",
     "text": [
      "3.141592653589793\n",
      "3.14\n",
      "3.14\n"
     ]
    }
   ],
   "source": [
    "import math\n",
    "print(math.pi)\n",
    "print('{:.2f}'.format(math.pi))\n",
    "print(f'{math.pi:.2f}')"
   ]
  },
  {
   "cell_type": "code",
   "execution_count": 17,
   "metadata": {},
   "outputs": [
    {
     "name": "stdout",
     "output_type": "stream",
     "text": [
      "12345678\n",
      "12,345,678\n"
     ]
    }
   ],
   "source": [
    "num=12345678\n",
    "print(num)\n",
    "print(f'{num:,}') # 천단위 컴머"
   ]
  },
  {
   "cell_type": "code",
   "execution_count": 18,
   "metadata": {},
   "outputs": [
    {
     "name": "stdout",
     "output_type": "stream",
     "text": [
      "98%\n",
      "98.15%\n"
     ]
    }
   ],
   "source": [
    "num=0.9815\n",
    "print(f'{num:.0%}') # 소수점이 없는 백분율\n",
    "print(f'{num:.2%}') # 소수 둘째자리까지 있는 백분율"
   ]
  }
 ],
 "metadata": {
  "interpreter": {
   "hash": "cef9e06bb236b2a8629b07e87a04b187b952a0f661eff5533360a155783f0c33"
  },
  "kernelspec": {
   "display_name": "Python 3.9.7 64-bit ('base': conda)",
   "language": "python",
   "name": "python3"
  },
  "language_info": {
   "codemirror_mode": {
    "name": "ipython",
    "version": 3
   },
   "file_extension": ".py",
   "mimetype": "text/x-python",
   "name": "python",
   "nbconvert_exporter": "python",
   "pygments_lexer": "ipython3",
   "version": "3.9.7"
  },
  "orig_nbformat": 4
 },
 "nbformat": 4,
 "nbformat_minor": 2
}
